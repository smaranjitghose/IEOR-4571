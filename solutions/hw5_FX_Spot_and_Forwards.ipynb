{
 "cells": [
  {
   "cell_type": "code",
   "execution_count": 50,
   "metadata": {
    "id": "c4Ss5jPEzl67"
   },
   "outputs": [],
   "source": [
    "# Given exhange rates \n",
    "eur_usd = 1.1601  # Euro / US Dollar\n",
    "usd_cyn = 6.4357  # US Dollar / Yuan\n",
    "usd_jpy = 114.22  # US Dollar/ Japanese Yen\n",
    "usd_zar = 14.603  # US Dollar/South African Rand\n",
    "usd_inr = 75.259  # US Dollar/ Indian Rupee"
   ]
  },
  {
   "cell_type": "markdown",
   "metadata": {
    "id": "tGtjCGXz2f2m"
   },
   "source": [
    "## Computing required spot rates"
   ]
  },
  {
   "cell_type": "code",
   "execution_count": 37,
   "metadata": {
    "colab": {
     "base_uri": "https://localhost:8080/"
    },
    "id": "SIVb2EsK0ODu",
    "outputId": "ebb9c2b8-07d9-49a1-ac6c-451d8d7c9160"
   },
   "outputs": [
    {
     "name": "stdout",
     "output_type": "stream",
     "text": [
      "Spot Rate for EUR_CNY is 7.466055569999999\n",
      "Spot Rate for ZAR_JPY is 7.821680476614394\n",
      "Spot Rate for CNY_INR is 11.69398822194944\n",
      "Spot Rate for INR_JPY is 1.5176922361445142\n",
      "Spot Rate for ZAR_INR is 5.153667054714785\n",
      "Spot Rate for EUR_ZAR is 16.940940299999998\n",
      "Spot Rate for CNY_ZAR is 2.269061640536383\n"
     ]
    }
   ],
   "source": [
    "spot_rate = dict()\n",
    "\n",
    "spot_rate[\"EUR_CNY\"] = eur_usd * usd_cyn\n",
    "spot_rate[\"ZAR_JPY\"] = usd_jpy / usd_zar\n",
    "spot_rate[\"CNY_INR\"] = usd_inr / usd_cyn\n",
    "spot_rate[\"INR_JPY\"] = usd_jpy / usd_inr\n",
    "spot_rate[\"ZAR_INR\"] = usd_inr / usd_zar\n",
    "spot_rate[\"EUR_ZAR\"] =  eur_usd * usd_zar\n",
    "spot_rate[\"CNY_ZAR\"] = usd_zar/usd_cyn\n",
    "\n",
    "\n",
    "for k,v in spot_rate.items():\n",
    "  print(f\"Spot Rate for {k} is {v}\")"
   ]
  },
  {
   "cell_type": "markdown",
   "metadata": {
    "id": "KV9AvQUxhumz"
   },
   "source": [
    "## Computing 1 year forwards\n",
    "\n",
    "$$ \\frac{1 + r_2}{1 + r_1}\\times spot\\_rate $$"
   ]
  },
  {
   "cell_type": "code",
   "execution_count": 48,
   "metadata": {
    "id": "pN6uNzCU0dNZ"
   },
   "outputs": [],
   "source": [
    "# Given\n",
    "i_rates_1y = {\"EUR\":-0.004830,\"CNY\":0.0241, \"JPY\":-0.00015,\"INR\":0.0405,\"ZAR\":0.043680}"
   ]
  },
  {
   "cell_type": "code",
   "execution_count": 49,
   "metadata": {
    "colab": {
     "base_uri": "https://localhost:8080/"
    },
    "id": "FAEzRGWg43Hn",
    "outputId": "a714c276-784c-408c-f178-0799d907347f"
   },
   "outputs": [
    {
     "name": "stdout",
     "output_type": "stream",
     "text": [
      "1 year Forward for EUR_CNY is 7.683096867105117\n",
      "1 year Forward for ZAR_JPY is 7.493204070733273\n",
      "1 year Forward for CNY_INR is 11.88125646415232\n",
      "1 year Forward for INR_JPY is 1.4583994063518428\n",
      "1 year Forward for ZAR_INR is 5.137964290233342\n",
      "1 year Forward for EUR_ZAR is 17.766733897026636\n",
      "1 year Forward for CNY_ZAR is 2.3124443442974436\n"
     ]
    }
   ],
   "source": [
    "forward_1y = dict()\n",
    "for k,s_rate in spot_rate.items():\n",
    "  r_1 = i_rates_1y[k[0:k.index(\"_\")]]\n",
    "  r_2 = i_rates_1y[k[k.index(\"_\")+1:]]\n",
    "  forward_1y[k] = ((1 + r_2)/(1 + r_1))*s_rate\n",
    "  print(f\"1 year Forward for {k.upper()} is {forward_1y[k]}\")"
   ]
  },
  {
   "cell_type": "markdown",
   "metadata": {
    "id": "1DTFP_RThx2y"
   },
   "source": [
    "## Computing 2 year forwards\n",
    "\n",
    "$$ \\frac{(1 + r_2)^2}{(1 + r_1)^2}\\times spot\\_rate $$"
   ]
  },
  {
   "cell_type": "code",
   "execution_count": 43,
   "metadata": {
    "id": "tusPaJHrh2e6"
   },
   "outputs": [],
   "source": [
    "# Given\n",
    "i_rates_2y = {\"EUR\":-0.003907,\"CNY\":0.0246, \"JPY\":0.000088,\"INR\":0.0452,\"ZAR\":0.05180}"
   ]
  },
  {
   "cell_type": "code",
   "execution_count": 46,
   "metadata": {
    "colab": {
     "base_uri": "https://localhost:8080/"
    },
    "id": "2A-lIuQQ5uDm",
    "outputId": "56e16134-3dc5-409f-e3f6-c8d390e00f91"
   },
   "outputs": [
    {
     "name": "stdout",
     "output_type": "stream",
     "text": [
      "2 year Forward for EUR_CNY is 7.899509848947298\n",
      "2 year Forward for ZAR_JPY is 7.0714776018385415\n",
      "2 year Forward for CNY_INR is 12.168940037321438\n",
      "2 year Forward for INR_JPY is 1.3895089319540952\n",
      "2 year Forward for ZAR_INR is 5.089191900259164\n",
      "2 year Forward for EUR_ZAR is 18.88878697444569\n",
      "2 year Forward for CNY_ZAR is 2.3911340495338256\n"
     ]
    }
   ],
   "source": [
    "forward_2y = dict()\n",
    "for k,s_rate in spot_rate.items():\n",
    "  r_1 = i_rates_2y[k[0:k.index(\"_\")]]\n",
    "  r_2 = i_rates_2y[k[k.index(\"_\")+1:]]\n",
    "  forward_2y[k] = ((1 + r_2)**2/(1 + r_1)**2)*s_rate\n",
    "  print(f\"2 year Forward for {k.upper()} is {forward_2y[k]}\")"
   ]
  },
  {
   "cell_type": "markdown",
   "metadata": {
    "id": "i9ry978Kg_xT"
   },
   "source": [
    "## Displaying the Final Results"
   ]
  },
  {
   "cell_type": "code",
   "execution_count": 42,
   "metadata": {
    "colab": {
     "base_uri": "https://localhost:8080/",
     "height": 265
    },
    "id": "OLQxmxFPfwuD",
    "outputId": "54d0e86c-e510-41e2-aec9-36f27806ea3e"
   },
   "outputs": [
    {
     "data": {
      "text/html": [
       "<div>\n",
       "<style scoped>\n",
       "    .dataframe tbody tr th:only-of-type {\n",
       "        vertical-align: middle;\n",
       "    }\n",
       "\n",
       "    .dataframe tbody tr th {\n",
       "        vertical-align: top;\n",
       "    }\n",
       "\n",
       "    .dataframe thead th {\n",
       "        text-align: right;\n",
       "    }\n",
       "</style>\n",
       "<table border=\"1\" class=\"dataframe\">\n",
       "  <thead>\n",
       "    <tr style=\"text-align: right;\">\n",
       "      <th></th>\n",
       "      <th>Spot Rate</th>\n",
       "      <th>1_Year_Forward</th>\n",
       "      <th>2_Year_Forward</th>\n",
       "    </tr>\n",
       "  </thead>\n",
       "  <tbody>\n",
       "    <tr>\n",
       "      <th>EUR_CNY</th>\n",
       "      <td>7.466056</td>\n",
       "      <td>7.683097</td>\n",
       "      <td>7.899510</td>\n",
       "    </tr>\n",
       "    <tr>\n",
       "      <th>ZAR_JPY</th>\n",
       "      <td>7.821680</td>\n",
       "      <td>7.493204</td>\n",
       "      <td>7.071478</td>\n",
       "    </tr>\n",
       "    <tr>\n",
       "      <th>CNY_INR</th>\n",
       "      <td>11.693988</td>\n",
       "      <td>11.881256</td>\n",
       "      <td>12.168940</td>\n",
       "    </tr>\n",
       "    <tr>\n",
       "      <th>INR_JPY</th>\n",
       "      <td>1.517692</td>\n",
       "      <td>1.458399</td>\n",
       "      <td>1.389509</td>\n",
       "    </tr>\n",
       "    <tr>\n",
       "      <th>ZAR_INR</th>\n",
       "      <td>5.153667</td>\n",
       "      <td>5.137964</td>\n",
       "      <td>5.089192</td>\n",
       "    </tr>\n",
       "    <tr>\n",
       "      <th>EUR_ZAR</th>\n",
       "      <td>16.940940</td>\n",
       "      <td>17.766734</td>\n",
       "      <td>18.888787</td>\n",
       "    </tr>\n",
       "    <tr>\n",
       "      <th>CNY_ZAR</th>\n",
       "      <td>2.269062</td>\n",
       "      <td>2.312444</td>\n",
       "      <td>2.391134</td>\n",
       "    </tr>\n",
       "  </tbody>\n",
       "</table>\n",
       "</div>"
      ],
      "text/plain": [
       "         Spot Rate  1_Year_Forward  2_Year_Forward\n",
       "EUR_CNY   7.466056        7.683097        7.899510\n",
       "ZAR_JPY   7.821680        7.493204        7.071478\n",
       "CNY_INR  11.693988       11.881256       12.168940\n",
       "INR_JPY   1.517692        1.458399        1.389509\n",
       "ZAR_INR   5.153667        5.137964        5.089192\n",
       "EUR_ZAR  16.940940       17.766734       18.888787\n",
       "CNY_ZAR   2.269062        2.312444        2.391134"
      ]
     },
     "execution_count": 42,
     "metadata": {},
     "output_type": "execute_result"
    }
   ],
   "source": [
    "import pandas as pd\n",
    "l = {\"Spot Rate\":spot_rate, \"1_Year_Forward\":forward_1y,\"2_Year_Forward\": forward_2y}\n",
    "df = pd.DataFrame.from_dict(l,orient=\"columns\")\n",
    "df"
   ]
  },
  {
   "cell_type": "markdown",
   "metadata": {
    "id": "GG3UbxKRivLq"
   },
   "source": [
    "##  Generalized Function for n-year forward"
   ]
  },
  {
   "cell_type": "code",
   "execution_count": 61,
   "metadata": {
    "id": "wOZ1VqdqgE1F"
   },
   "outputs": [],
   "source": [
    "def n_y_forward(spot_rate:dict,i_rate_iy:dict,n:int) -> dict:\n",
    "  \"\"\"\n",
    "  Function to compute the n year forward given the spot rate and corresponding interest rate for n years\n",
    "  \"\"\"\n",
    "  forward_ny = dict()\n",
    "  for k,s_rate in spot_rate.items():\n",
    "    r_1 = i_rate_iy[k[0:k.index(\"_\")]]\n",
    "    r_2 = i_rate_iy[k[k.index(\"_\")+1:]]\n",
    "    forward_ny[k] = ((1 + r_2)**n/(1 + r_1)**n)*s_rate\n",
    "  return forward_ny"
   ]
  },
  {
   "cell_type": "code",
   "execution_count": 62,
   "metadata": {
    "colab": {
     "base_uri": "https://localhost:8080/"
    },
    "id": "5se7C0nRkXNS",
    "outputId": "4bf30b02-85d8-484f-8ec2-b40bde531b36"
   },
   "outputs": [
    {
     "name": "stdout",
     "output_type": "stream",
     "text": [
      "1 year forward for EUR_CNY is 7.683096867105117\n",
      "1 year forward for ZAR_JPY is 7.493204070733273\n",
      "1 year forward for CNY_INR is 11.88125646415232\n",
      "1 year forward for INR_JPY is 1.4583994063518428\n",
      "1 year forward for ZAR_INR is 5.137964290233342\n",
      "1 year forward for EUR_ZAR is 17.766733897026636\n",
      "1 year forward for CNY_ZAR is 2.3124443442974436\n"
     ]
    }
   ],
   "source": [
    "# Testing our function\n",
    "forward_1_year = n_y_forward(spot_rate, i_rates_1y, 1)\n",
    "for k,v in forward_1_year.items():\n",
    "  print(f\"1 year forward for {k} is {v}\")"
   ]
  }
 ],
 "metadata": {
  "colab": {
   "name": "FX_Spot_and_Forwards.ipynb",
   "provenance": []
  },
  "kernelspec": {
   "display_name": "Python 3",
   "language": "python",
   "name": "python3"
  },
  "language_info": {
   "codemirror_mode": {
    "name": "ipython",
    "version": 3
   },
   "file_extension": ".py",
   "mimetype": "text/x-python",
   "name": "python",
   "nbconvert_exporter": "python",
   "pygments_lexer": "ipython3",
   "version": "3.8.8"
  }
 },
 "nbformat": 4,
 "nbformat_minor": 1
}
