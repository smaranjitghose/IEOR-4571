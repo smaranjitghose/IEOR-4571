{
 "cells": [
  {
   "cell_type": "code",
   "execution_count": 26,
   "metadata": {
    "id": "J4pCf020_bkP"
   },
   "outputs": [],
   "source": [
    "!pip -q install yfinance"
   ]
  },
  {
   "cell_type": "code",
   "execution_count": 40,
   "metadata": {
    "id": "sr8z1NM6iC1V"
   },
   "outputs": [],
   "source": [
    "import yfinance as yf \n",
    "import pandas as pd\n",
    "import numpy as np\n",
    "from tqdm import tqdm"
   ]
  },
  {
   "cell_type": "markdown",
   "metadata": {
    "id": "42lSL6e_oezK"
   },
   "source": [
    "# Fetching the required data"
   ]
  },
  {
   "cell_type": "code",
   "execution_count": 48,
   "metadata": {
    "id": "PRdaDYLnokkq"
   },
   "outputs": [],
   "source": [
    "avg_spy_r = 0.1141 # Given"
   ]
  },
  {
   "cell_type": "code",
   "execution_count": 41,
   "metadata": {
    "id": "o3V46hWsj4yb"
   },
   "outputs": [],
   "source": [
    "def stock_info(ticker:str)->dict:\n",
    "  \"\"\"\n",
    "  Function that returns the beta, 1 year forward dividend and close price for a particular date given the ticker of the stock\n",
    "  \"\"\"\n",
    "  stock = yf.Ticker(ticker)\n",
    "  stock_i = dict()\n",
    "  stock_i[\"beta\"] = stock.get_info()[\"beta\"]\n",
    "  stock_i[\"div\"] = stock.get_info()[\"dividendRate\"]\n",
    "  stock_i[\"close\"] = stock.history(period=\"1mo\")[\"Close\"].loc[\"2021-11-05 \"]\n",
    "  return stock_i"
   ]
  },
  {
   "cell_type": "code",
   "execution_count": 42,
   "metadata": {
    "id": "9kv38Ue8mXaL"
   },
   "outputs": [],
   "source": [
    "tickers = [\"AAPL\", \"PFE\", \"ED\", \"XOM\", \"BAC\"]"
   ]
  },
  {
   "cell_type": "code",
   "execution_count": 44,
   "metadata": {
    "colab": {
     "base_uri": "https://localhost:8080/"
    },
    "id": "Xne7MPvlmgT2",
    "outputId": "0eb4359e-4e11-4c51-9bc1-21ceb7841ab2"
   },
   "outputs": [
    {
     "name": "stderr",
     "output_type": "stream",
     "text": [
      "Fetching data from Yahoo Finance: 100%|██████████| 5/5 [00:15<00:00,  3.02s/it]\n"
     ]
    }
   ],
   "source": [
    "data = dict()\n",
    "for t in tqdm(tickers, desc=\"Fetching data from Yahoo Finance..\"):\n",
    "  data[t] = stock_info(t)"
   ]
  },
  {
   "cell_type": "code",
   "execution_count": 45,
   "metadata": {
    "colab": {
     "base_uri": "https://localhost:8080/"
    },
    "id": "LusxDy4zmzod",
    "outputId": "6b320bf0-82c4-470a-b99d-dee9630f2d3b"
   },
   "outputs": [
    {
     "name": "stdout",
     "output_type": "stream",
     "text": [
      "{'AAPL': {'beta': 1.205714, 'div': 0.88, 'close': 151.27999877929688}, 'PFE': {'beta': 0.665974, 'div': 1.56, 'close': 48.61000061035156}, 'ED': {'beta': 0.190129, 'div': 3.1, 'close': 77.44050598144531}, 'XOM': {'beta': 1.343376, 'div': 3.52, 'close': 64.15776824951172}, 'BAC': {'beta': 1.538701, 'div': 0.84, 'close': 46.970001220703125}}\n"
     ]
    }
   ],
   "source": [
    "# Checking our data\n",
    "print(data)"
   ]
  },
  {
   "cell_type": "code",
   "execution_count": 46,
   "metadata": {
    "id": "RytARJxFk2I5"
   },
   "outputs": [],
   "source": [
    "# In case API call fails due to network issue, we can use the data by manual input\n",
    "# This might lead to certain changes in decimal values to the consideration of less number of significant digits\n",
    "\n",
    "# data = {\"AAPL\":{\"beta\":1.21, \"div\":0.88, \"close\": 151.28}, \n",
    "#         \"PFE\":{\"beta\":0.67, \"div\":1.56, \"close\": 48.61}, \n",
    "#         \"ED\":{\"beta\":0.19, \"div\":3.10, \"close\": 78.21\t}, \n",
    "#         \"XOM\":{\"beta\":1.34, \"div\":3.52, \"close\": 65.02},\n",
    "#         \"BAC\":{\"beta\":1.54, \"div\":0.84, \"close\": 46.97}\n",
    "#         }"
   ]
  },
  {
   "cell_type": "code",
   "execution_count": 47,
   "metadata": {
    "colab": {
     "base_uri": "https://localhost:8080/",
     "height": 206
    },
    "id": "Rpe_nYMlm5Oj",
    "outputId": "b113a3ac-9f4c-4cbd-c718-b823ee2db610"
   },
   "outputs": [
    {
     "data": {
      "text/html": [
       "<div>\n",
       "<style scoped>\n",
       "    .dataframe tbody tr th:only-of-type {\n",
       "        vertical-align: middle;\n",
       "    }\n",
       "\n",
       "    .dataframe tbody tr th {\n",
       "        vertical-align: top;\n",
       "    }\n",
       "\n",
       "    .dataframe thead th {\n",
       "        text-align: right;\n",
       "    }\n",
       "</style>\n",
       "<table border=\"1\" class=\"dataframe\">\n",
       "  <thead>\n",
       "    <tr style=\"text-align: right;\">\n",
       "      <th></th>\n",
       "      <th>beta</th>\n",
       "      <th>div</th>\n",
       "      <th>close</th>\n",
       "    </tr>\n",
       "  </thead>\n",
       "  <tbody>\n",
       "    <tr>\n",
       "      <th>AAPL</th>\n",
       "      <td>1.205714</td>\n",
       "      <td>0.88</td>\n",
       "      <td>151.279999</td>\n",
       "    </tr>\n",
       "    <tr>\n",
       "      <th>PFE</th>\n",
       "      <td>0.665974</td>\n",
       "      <td>1.56</td>\n",
       "      <td>48.610001</td>\n",
       "    </tr>\n",
       "    <tr>\n",
       "      <th>ED</th>\n",
       "      <td>0.190129</td>\n",
       "      <td>3.10</td>\n",
       "      <td>77.440506</td>\n",
       "    </tr>\n",
       "    <tr>\n",
       "      <th>XOM</th>\n",
       "      <td>1.343376</td>\n",
       "      <td>3.52</td>\n",
       "      <td>64.157768</td>\n",
       "    </tr>\n",
       "    <tr>\n",
       "      <th>BAC</th>\n",
       "      <td>1.538701</td>\n",
       "      <td>0.84</td>\n",
       "      <td>46.970001</td>\n",
       "    </tr>\n",
       "  </tbody>\n",
       "</table>\n",
       "</div>"
      ],
      "text/plain": [
       "          beta   div       close\n",
       "AAPL  1.205714  0.88  151.279999\n",
       "PFE   0.665974  1.56   48.610001\n",
       "ED    0.190129  3.10   77.440506\n",
       "XOM   1.343376  3.52   64.157768\n",
       "BAC   1.538701  0.84   46.970001"
      ]
     },
     "execution_count": 47,
     "metadata": {},
     "output_type": "execute_result"
    }
   ],
   "source": [
    "# Typecasting our data into a dataframe\n",
    "df = pd.DataFrame.from_dict(data,orient=\"index\")\n",
    "df"
   ]
  },
  {
   "cell_type": "markdown",
   "metadata": {
    "id": "BED0AaA1opiD"
   },
   "source": [
    "# Compute Market Capitalization Rate\n",
    "\n",
    "Market capitalization rate of a company can be expressed as  \n",
    "\n",
    "$$r\\times \\beta$$\n",
    "\n",
    "where r is the average return of SPY500 over the last 20 years"
   ]
  },
  {
   "cell_type": "code",
   "execution_count": 49,
   "metadata": {
    "colab": {
     "base_uri": "https://localhost:8080/",
     "height": 206
    },
    "id": "uL2eygYsnvPA",
    "outputId": "397c3af2-34c7-4def-8265-433150b110fe"
   },
   "outputs": [
    {
     "data": {
      "text/html": [
       "<div>\n",
       "<style scoped>\n",
       "    .dataframe tbody tr th:only-of-type {\n",
       "        vertical-align: middle;\n",
       "    }\n",
       "\n",
       "    .dataframe tbody tr th {\n",
       "        vertical-align: top;\n",
       "    }\n",
       "\n",
       "    .dataframe thead th {\n",
       "        text-align: right;\n",
       "    }\n",
       "</style>\n",
       "<table border=\"1\" class=\"dataframe\">\n",
       "  <thead>\n",
       "    <tr style=\"text-align: right;\">\n",
       "      <th></th>\n",
       "      <th>beta</th>\n",
       "      <th>div</th>\n",
       "      <th>close</th>\n",
       "      <th>market_cap_r</th>\n",
       "    </tr>\n",
       "  </thead>\n",
       "  <tbody>\n",
       "    <tr>\n",
       "      <th>AAPL</th>\n",
       "      <td>1.205714</td>\n",
       "      <td>0.88</td>\n",
       "      <td>151.279999</td>\n",
       "      <td>0.137572</td>\n",
       "    </tr>\n",
       "    <tr>\n",
       "      <th>PFE</th>\n",
       "      <td>0.665974</td>\n",
       "      <td>1.56</td>\n",
       "      <td>48.610001</td>\n",
       "      <td>0.075988</td>\n",
       "    </tr>\n",
       "    <tr>\n",
       "      <th>ED</th>\n",
       "      <td>0.190129</td>\n",
       "      <td>3.10</td>\n",
       "      <td>77.440506</td>\n",
       "      <td>0.021694</td>\n",
       "    </tr>\n",
       "    <tr>\n",
       "      <th>XOM</th>\n",
       "      <td>1.343376</td>\n",
       "      <td>3.52</td>\n",
       "      <td>64.157768</td>\n",
       "      <td>0.153279</td>\n",
       "    </tr>\n",
       "    <tr>\n",
       "      <th>BAC</th>\n",
       "      <td>1.538701</td>\n",
       "      <td>0.84</td>\n",
       "      <td>46.970001</td>\n",
       "      <td>0.175566</td>\n",
       "    </tr>\n",
       "  </tbody>\n",
       "</table>\n",
       "</div>"
      ],
      "text/plain": [
       "          beta   div       close  market_cap_r\n",
       "AAPL  1.205714  0.88  151.279999      0.137572\n",
       "PFE   0.665974  1.56   48.610001      0.075988\n",
       "ED    0.190129  3.10   77.440506      0.021694\n",
       "XOM   1.343376  3.52   64.157768      0.153279\n",
       "BAC   1.538701  0.84   46.970001      0.175566"
      ]
     },
     "execution_count": 49,
     "metadata": {},
     "output_type": "execute_result"
    }
   ],
   "source": [
    "df[\"market_cap_r\"] = df[\"beta\"]*avg_spy_r \n",
    "df"
   ]
  },
  {
   "cell_type": "markdown",
   "metadata": {
    "id": "fYqNFGcCo3Qu"
   },
   "source": [
    "# Value of Stocks using DDM\n",
    "\n",
    "$$P = \\frac{D}{r}$$"
   ]
  },
  {
   "cell_type": "code",
   "execution_count": 54,
   "metadata": {
    "colab": {
     "base_uri": "https://localhost:8080/"
    },
    "id": "Ii9ZARmmorwQ",
    "outputId": "c0181d66-7297-4c04-eb41-3ef2f329d0ca"
   },
   "outputs": [
    {
     "data": {
      "text/plain": [
       "AAPL      6.396652\n",
       "PFE      20.529656\n",
       "ED      142.898505\n",
       "XOM      22.964629\n",
       "BAC       4.784531\n",
       "dtype: float64"
      ]
     },
     "execution_count": 54,
     "metadata": {},
     "output_type": "execute_result"
    }
   ],
   "source": [
    "p = df[\"div\"]/ df[\"market_cap_r\"]\n",
    "p"
   ]
  },
  {
   "cell_type": "markdown",
   "metadata": {
    "id": "QNtyUYiupEDY"
   },
   "source": [
    "# Growth Rate of Dividends using DGM\n",
    "\n",
    "\n",
    "\n",
    "\n",
    "\n",
    "$$\\begin{split} &P = \\frac{ D_1 }{ r - g } \\\\ &\\textbf{where:} \\\\ &P = \\text{Current stock price} \\\\ &g = \\text{Constant growth rate expected for} \\\\ &\\text{dividends, in perpetuity} \\\\ &r = \\text{Constant cost of equity capital for the} \\\\ &\\text{company (or rate of return)} \\\\ &D_1 = \\text{Value of next year's dividends} \\\\ \\end{split} $$\n",
    "\n",
    "\n",
    "$$\\therefore g = r - \\frac{D_1}{P}$$\n",
    "\n"
   ]
  },
  {
   "cell_type": "code",
   "execution_count": 55,
   "metadata": {
    "colab": {
     "base_uri": "https://localhost:8080/"
    },
    "id": "RRKByDeIo5S3",
    "outputId": "d768160d-c73a-4a95-9ca7-54895291ad04"
   },
   "outputs": [
    {
     "data": {
      "text/plain": [
       "AAPL    13.175494\n",
       "PFE      4.389547\n",
       "ED      -1.833701\n",
       "XOM      9.841445\n",
       "BAC     15.768203\n",
       "dtype: float64"
      ]
     },
     "execution_count": 55,
     "metadata": {},
     "output_type": "execute_result"
    }
   ],
   "source": [
    "g = df[\"market_cap_r\"] - (df[\"div\"]/df[\"close\"])\n",
    "g*100 # Value in percent"
   ]
  }
 ],
 "metadata": {
  "colab": {
   "name": "Equity_Valuation.ipynb",
   "provenance": []
  },
  "kernelspec": {
   "display_name": "Python 3",
   "language": "python",
   "name": "python3"
  },
  "language_info": {
   "codemirror_mode": {
    "name": "ipython",
    "version": 3
   },
   "file_extension": ".py",
   "mimetype": "text/x-python",
   "name": "python",
   "nbconvert_exporter": "python",
   "pygments_lexer": "ipython3",
   "version": "3.8.8"
  }
 },
 "nbformat": 4,
 "nbformat_minor": 1
}
