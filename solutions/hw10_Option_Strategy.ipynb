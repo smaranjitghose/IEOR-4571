{
  "nbformat": 4,
  "nbformat_minor": 0,
  "metadata": {
    "colab": {
      "name": "Options_Strategy.ipynb",
      "provenance": [],
      "collapsed_sections": []
    },
    "kernelspec": {
      "name": "python3",
      "display_name": "Python 3"
    },
    "language_info": {
      "name": "python"
    }
  },
  "cells": [
    {
      "cell_type": "code",
      "execution_count": 1,
      "metadata": {
        "colab": {
          "base_uri": "https://localhost:8080/"
        },
        "id": "xIGtF2OtoNIx",
        "outputId": "78cfe3f0-cfe4-403d-aa96-d995186e5015"
      },
      "outputs": [
        {
          "output_type": "stream",
          "name": "stdout",
          "text": [
            "\u001b[K     |████████████████████████████████| 81 kB 3.4 MB/s \n",
            "\u001b[K     |████████████████████████████████| 83 kB 2.0 MB/s \n",
            "\u001b[K     |████████████████████████████████| 127 kB 7.7 MB/s \n",
            "\u001b[K     |████████████████████████████████| 103 kB 42.6 MB/s \n",
            "\u001b[?25h  Building wheel for fake-useragent (setup.py) ... \u001b[?25l\u001b[?25hdone\n",
            "  Building wheel for parse (setup.py) ... \u001b[?25l\u001b[?25hdone\n",
            "  Building wheel for sgmllib3k (setup.py) ... \u001b[?25l\u001b[?25hdone\n",
            "\u001b[31mERROR: pip's dependency resolver does not currently take into account all the packages that are installed. This behaviour is the source of the following dependency conflicts.\n",
            "datascience 0.10.6 requires folium==0.2.1, but you have folium 0.8.3 which is incompatible.\u001b[0m\n"
          ]
        }
      ],
      "source": [
        "!pip install --quiet yahoo-fin"
      ]
    },
    {
      "cell_type": "code",
      "source": [
        "from yahoo_fin import options,stock_info\n",
        "import numpy as np\n",
        "import pandas as pd \n",
        "from datetime import datetime,timedelta\n",
        "from collections import defaultdict\n",
        "from tqdm import tqdm\n",
        "from typing import List"
      ],
      "metadata": {
        "id": "j9HrN4VaoeAV"
      },
      "execution_count": 2,
      "outputs": []
    },
    {
      "cell_type": "markdown",
      "source": [
        "## Q1 \n",
        "\n",
        "- Consider the gains of the following stocks from January 2nd, 2021 until December 1st 2021\n",
        "  -\tApple Computers (AAPL)\n",
        "  -\tMicrosoft (MSFT)\n",
        "  -\tMeta (Formerly Face Book) (FB\n",
        "  - Alphabet (GOOG)\n",
        "\n",
        "\n",
        "- Suppose you want to preserve 50% of the above gains until June 17, 2022. Find the strike and premium of a put option that accomplishes this\n",
        "\n",
        "(To determine premium: use use simple linear interpolation on the ask prices of exchange traded options)\n",
        "\n",
        "## Q2\n",
        "\n",
        "Determine the strike of a call that selling it will make the collar zero cost. (buying the put and selling the call). Use linear interpolation on the bid price of the calls. \n",
        "\n",
        "## Q3\n",
        "If we only sell the call (Covered call) and the stock is called on the maturity of the option, what would be the return from January 2nd, 2021 until the call date\n",
        "\n",
        " "
      ],
      "metadata": {
        "id": "_u7rFyXFz1x3"
      }
    },
    {
      "cell_type": "code",
      "source": [
        "def compute_stock_return(ticker:str, start_date:datetime,end_date:datetime)->float:\n",
        "  \"\"\"\n",
        "  Function that returns the gains obtained on investment of 1 unit of a particular stock within the stipulated time period\n",
        "  \"\"\"\n",
        "  stock_df = stock_info.get_data(ticker, start_date, end_date)\n",
        "  return stock_df[\"close\"][-1] - stock_df[\"close\"][0]"
      ],
      "metadata": {
        "id": "BkfB8qFJsCNt"
      },
      "execution_count": 3,
      "outputs": []
    },
    {
      "cell_type": "code",
      "source": [
        "def compute_strike_price(ticker:str,spot_date:datetime, g: float)->float:\n",
        "  \"\"\"\n",
        "  Method to compute the strike of the put option\n",
        "  \"\"\"\n",
        "  # Get the Spot Price\n",
        "  spot_price = stock_info.get_data(ticker, spot_date)[\"close\"][0]\n",
        "  return spot_price - g"
      ],
      "metadata": {
        "id": "Mtw5YeT9tpUF"
      },
      "execution_count": 4,
      "outputs": []
    },
    {
      "cell_type": "code",
      "source": [
        "def find_nearest_indices(df,colname,val):\n",
        "    \"\"\"\n",
        "    From a given dataframe obtain the index of the required key in a particular column or the indices of the nearest neighbours\n",
        "    \"\"\"\n",
        "    if val in df[colname].values:\n",
        "        return df.index[df[colname]==val].tolist()\n",
        "    else:\n",
        "        upper_i = df[df[colname] < val][colname].idxmax()\n",
        "        lower_i = df[df[colname] > val][colname].idxmin()\n",
        "        return [upper_i, lower_i]"
      ],
      "metadata": {
        "id": "7snoxoUmHDtI"
      },
      "execution_count": 5,
      "outputs": []
    },
    {
      "cell_type": "code",
      "source": [
        "def get_interplolated_val(x1:float, y1:float, x2:float, y2:float, x:float)-> float:\n",
        "  m = (y2-y1)/(x2-x1)\n",
        "  y = m*(x-x1) + y1\n",
        "  return y"
      ],
      "metadata": {
        "id": "7_d-xHkiLlaC"
      },
      "execution_count": 6,
      "outputs": []
    },
    {
      "cell_type": "code",
      "source": [
        "def compute_put_premium(ticker:str, strike_p: float, maturity:str ) -> float:\n",
        "  # Fetch the Option Data\n",
        "  option_df = options.get_options_chain(ticker, maturity)\n",
        "  # Slice the Put Data\n",
        "  puts_df = option_df[\"puts\"]\n",
        "  # Fetch the index/indices of the nearest ask price\n",
        "  ask_i = find_nearest_indices(puts_df,\"Strike\",strike_p)\n",
        "  # If the exact ask price is found\n",
        "  if len(ask_i) == 1:\n",
        "    # Return it as the premium\n",
        "    premium = puts_df.loc[ask_i[0],[\"Last Price\"]][0]\n",
        "  else:\n",
        "    x1, y1 = puts_df.loc[ask_i[0],[\"Strike\",\"Last Price\"]]\n",
        "    x2, y2 = puts_df.loc[ask_i[1],[\"Strike\",\"Last Price\"]]\n",
        "    x = strike_p\n",
        "    premium = get_interplolated_val(x1,y1,x2,y2,x)\n",
        "  return premium"
      ],
      "metadata": {
        "id": "UyNXGUwCNFnE"
      },
      "execution_count": 7,
      "outputs": []
    },
    {
      "cell_type": "code",
      "source": [
        "def compute_call_strike(ticker:str, p: float, maturity:str ) -> float:\n",
        "  # Fetch the Option Data\n",
        "  option_df = options.get_options_chain(ticker, maturity)\n",
        "  # Slice the Put Data\n",
        "  calls_df = option_df[\"calls\"]\n",
        "  # Fetch the index/indices of the nearest ask price\n",
        "  ask_i = find_nearest_indices(calls_df,\"Last Price\",p)\n",
        "  # If the exact ask price is found\n",
        "  if len(ask_i) == 1:\n",
        "    # Return it as the premium\n",
        "    strike = calls_df.loc[ask_i[0],[\"Strike\"]][0]\n",
        "  else:\n",
        "    x1, y1 = calls_df.loc[ask_i[0],[\"Last Price\",\"Strike\"]]\n",
        "    x2, y2 = calls_df.loc[ask_i[1],[\"Last Price\",\"Strike\"]]\n",
        "    x = p\n",
        "    strike = get_interplolated_val(x1,y1,x2,y2,x)\n",
        "  return strike"
      ],
      "metadata": {
        "id": "1HJi8uQxeOd3"
      },
      "execution_count": 8,
      "outputs": []
    },
    {
      "cell_type": "code",
      "source": [
        "def compute_covered_call_r(ticker:str, start_date:datetime, strike_p: float):\n",
        "  initial_p = stock_info.get_data(ticker, start_date)[\"close\"][0]\n",
        "  return strike_p - initial_p "
      ],
      "metadata": {
        "id": "HZr3022baF6M"
      },
      "execution_count": 9,
      "outputs": []
    },
    {
      "cell_type": "code",
      "source": [
        "def get_strike_premium(tickers:List[str] ,start_date:datetime ,end_date:datetime ,spot_date:datetime, maturity_date:datetime)->pd.DataFrame:\n",
        "  \"\"\"\n",
        "  Function that returns a dataframe for the respective gains and desired put strike prices for a given list of stocks to save 50% of the gains earned within a period\n",
        "  \"\"\"\n",
        "  portfolio = defaultdict(dict)\n",
        "  for t in tqdm(tickers):\n",
        "    # Compute the returns \n",
        "    portfolio[t][\"Gains\"] = compute_stock_return(t,start_date,end_date)\n",
        "    # Get the Required Strike Price for Put\n",
        "    portfolio[t][\"Put Strike\"] = compute_strike_price(t,spot_date,(portfolio[t][\"Gains\"])/2)\n",
        "    # Compute the Required Premium for Put\n",
        "    portfolio[t][\"Put Premium\"] = compute_put_premium(t,portfolio[t][\"Put Strike\"],maturity_date)\n",
        "    # For a Zero Collar, we need to find a Call of the same premium\n",
        "    portfolio[t][\"Call Premium\"] = portfolio[t][\"Put Premium\"]\n",
        "    # Use the Premium to find strike of a Call\n",
        "    portfolio[t][\"Call Strike\"] = compute_call_strike(t,portfolio[t][\"Call Premium\"],maturity_date)\n",
        "    # USe Call Strije to find covered Call Return\n",
        "    portfolio[t][\"Covered Call Return\"] = compute_covered_call_r(t,start_date,portfolio[t][\"Call Strike\"])\n",
        "  # Convert the result into a dataframe and return it\n",
        "  return pd.DataFrame.from_dict(portfolio,orient=\"index\")"
      ],
      "metadata": {
        "id": "uxsu-w43uWlM"
      },
      "execution_count": 11,
      "outputs": []
    },
    {
      "cell_type": "code",
      "source": [
        "start_date = datetime(2021,1,2)\n",
        "end_date = datetime(2021,12,2)\n",
        "spot_date = datetime(2021,12,10)\n",
        "maturity_date = datetime(2022,6,17)\n",
        "tickers = [\"AAPL\", \"MSFT\",\"GOOGL\",\"FB\"]"
      ],
      "metadata": {
        "id": "D1eYrAJVxkTM"
      },
      "execution_count": 12,
      "outputs": []
    },
    {
      "cell_type": "code",
      "source": [
        "portfolio_df = get_strike_premium(tickers,start_date,end_date,spot_date,maturity_date)\n",
        "portfolio_df"
      ],
      "metadata": {
        "colab": {
          "base_uri": "https://localhost:8080/",
          "height": 192
        },
        "id": "teHZvIqownIG",
        "outputId": "2c3dc075-5d87-42a7-ad8a-4fe1f6877ea3"
      },
      "execution_count": 13,
      "outputs": [
        {
          "output_type": "stream",
          "name": "stderr",
          "text": [
            "100%|██████████| 4/4 [00:14<00:00,  3.62s/it]\n"
          ]
        },
        {
          "output_type": "execute_result",
          "data": {
            "text/html": [
              "\n",
              "  <div id=\"df-505e05bd-665c-4427-a252-b2aaacda0dda\">\n",
              "    <div class=\"colab-df-container\">\n",
              "      <div>\n",
              "<style scoped>\n",
              "    .dataframe tbody tr th:only-of-type {\n",
              "        vertical-align: middle;\n",
              "    }\n",
              "\n",
              "    .dataframe tbody tr th {\n",
              "        vertical-align: top;\n",
              "    }\n",
              "\n",
              "    .dataframe thead th {\n",
              "        text-align: right;\n",
              "    }\n",
              "</style>\n",
              "<table border=\"1\" class=\"dataframe\">\n",
              "  <thead>\n",
              "    <tr style=\"text-align: right;\">\n",
              "      <th></th>\n",
              "      <th>Gains</th>\n",
              "      <th>Put Strike</th>\n",
              "      <th>Put Premium</th>\n",
              "      <th>Call Premium</th>\n",
              "      <th>Call Strike</th>\n",
              "      <th>Covered Call Return</th>\n",
              "    </tr>\n",
              "  </thead>\n",
              "  <tbody>\n",
              "    <tr>\n",
              "      <th>AAPL</th>\n",
              "      <td>35.360001</td>\n",
              "      <td>161.769997</td>\n",
              "      <td>11.011099</td>\n",
              "      <td>11.011099</td>\n",
              "      <td>180.469171</td>\n",
              "      <td>51.059167</td>\n",
              "    </tr>\n",
              "    <tr>\n",
              "      <th>MSFT</th>\n",
              "      <td>112.389984</td>\n",
              "      <td>286.345016</td>\n",
              "      <td>13.903505</td>\n",
              "      <td>13.903505</td>\n",
              "      <td>350.554984</td>\n",
              "      <td>132.864981</td>\n",
              "    </tr>\n",
              "    <tr>\n",
              "      <th>GOOGL</th>\n",
              "      <td>1094.900024</td>\n",
              "      <td>2412.580017</td>\n",
              "      <td>72.447131</td>\n",
              "      <td>72.447131</td>\n",
              "      <td>3318.342072</td>\n",
              "      <td>1592.212068</td>\n",
              "    </tr>\n",
              "    <tr>\n",
              "      <th>FB</th>\n",
              "      <td>41.660004</td>\n",
              "      <td>308.919998</td>\n",
              "      <td>22.184399</td>\n",
              "      <td>22.184399</td>\n",
              "      <td>363.358097</td>\n",
              "      <td>94.418094</td>\n",
              "    </tr>\n",
              "  </tbody>\n",
              "</table>\n",
              "</div>\n",
              "      <button class=\"colab-df-convert\" onclick=\"convertToInteractive('df-505e05bd-665c-4427-a252-b2aaacda0dda')\"\n",
              "              title=\"Convert this dataframe to an interactive table.\"\n",
              "              style=\"display:none;\">\n",
              "        \n",
              "  <svg xmlns=\"http://www.w3.org/2000/svg\" height=\"24px\"viewBox=\"0 0 24 24\"\n",
              "       width=\"24px\">\n",
              "    <path d=\"M0 0h24v24H0V0z\" fill=\"none\"/>\n",
              "    <path d=\"M18.56 5.44l.94 2.06.94-2.06 2.06-.94-2.06-.94-.94-2.06-.94 2.06-2.06.94zm-11 1L8.5 8.5l.94-2.06 2.06-.94-2.06-.94L8.5 2.5l-.94 2.06-2.06.94zm10 10l.94 2.06.94-2.06 2.06-.94-2.06-.94-.94-2.06-.94 2.06-2.06.94z\"/><path d=\"M17.41 7.96l-1.37-1.37c-.4-.4-.92-.59-1.43-.59-.52 0-1.04.2-1.43.59L10.3 9.45l-7.72 7.72c-.78.78-.78 2.05 0 2.83L4 21.41c.39.39.9.59 1.41.59.51 0 1.02-.2 1.41-.59l7.78-7.78 2.81-2.81c.8-.78.8-2.07 0-2.86zM5.41 20L4 18.59l7.72-7.72 1.47 1.35L5.41 20z\"/>\n",
              "  </svg>\n",
              "      </button>\n",
              "      \n",
              "  <style>\n",
              "    .colab-df-container {\n",
              "      display:flex;\n",
              "      flex-wrap:wrap;\n",
              "      gap: 12px;\n",
              "    }\n",
              "\n",
              "    .colab-df-convert {\n",
              "      background-color: #E8F0FE;\n",
              "      border: none;\n",
              "      border-radius: 50%;\n",
              "      cursor: pointer;\n",
              "      display: none;\n",
              "      fill: #1967D2;\n",
              "      height: 32px;\n",
              "      padding: 0 0 0 0;\n",
              "      width: 32px;\n",
              "    }\n",
              "\n",
              "    .colab-df-convert:hover {\n",
              "      background-color: #E2EBFA;\n",
              "      box-shadow: 0px 1px 2px rgba(60, 64, 67, 0.3), 0px 1px 3px 1px rgba(60, 64, 67, 0.15);\n",
              "      fill: #174EA6;\n",
              "    }\n",
              "\n",
              "    [theme=dark] .colab-df-convert {\n",
              "      background-color: #3B4455;\n",
              "      fill: #D2E3FC;\n",
              "    }\n",
              "\n",
              "    [theme=dark] .colab-df-convert:hover {\n",
              "      background-color: #434B5C;\n",
              "      box-shadow: 0px 1px 3px 1px rgba(0, 0, 0, 0.15);\n",
              "      filter: drop-shadow(0px 1px 2px rgba(0, 0, 0, 0.3));\n",
              "      fill: #FFFFFF;\n",
              "    }\n",
              "  </style>\n",
              "\n",
              "      <script>\n",
              "        const buttonEl =\n",
              "          document.querySelector('#df-505e05bd-665c-4427-a252-b2aaacda0dda button.colab-df-convert');\n",
              "        buttonEl.style.display =\n",
              "          google.colab.kernel.accessAllowed ? 'block' : 'none';\n",
              "\n",
              "        async function convertToInteractive(key) {\n",
              "          const element = document.querySelector('#df-505e05bd-665c-4427-a252-b2aaacda0dda');\n",
              "          const dataTable =\n",
              "            await google.colab.kernel.invokeFunction('convertToInteractive',\n",
              "                                                     [key], {});\n",
              "          if (!dataTable) return;\n",
              "\n",
              "          const docLinkHtml = 'Like what you see? Visit the ' +\n",
              "            '<a target=\"_blank\" href=https://colab.research.google.com/notebooks/data_table.ipynb>data table notebook</a>'\n",
              "            + ' to learn more about interactive tables.';\n",
              "          element.innerHTML = '';\n",
              "          dataTable['output_type'] = 'display_data';\n",
              "          await google.colab.output.renderOutput(dataTable, element);\n",
              "          const docLink = document.createElement('div');\n",
              "          docLink.innerHTML = docLinkHtml;\n",
              "          element.appendChild(docLink);\n",
              "        }\n",
              "      </script>\n",
              "    </div>\n",
              "  </div>\n",
              "  "
            ],
            "text/plain": [
              "             Gains   Put Strike  ...  Call Strike  Covered Call Return\n",
              "AAPL     35.360001   161.769997  ...   180.469171            51.059167\n",
              "MSFT    112.389984   286.345016  ...   350.554984           132.864981\n",
              "GOOGL  1094.900024  2412.580017  ...  3318.342072          1592.212068\n",
              "FB       41.660004   308.919998  ...   363.358097            94.418094\n",
              "\n",
              "[4 rows x 6 columns]"
            ]
          },
          "metadata": {},
          "execution_count": 13
        }
      ]
    }
  ]
}